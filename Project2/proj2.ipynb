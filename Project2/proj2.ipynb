{
 "cells": [
  {
   "cell_type": "markdown",
   "metadata": {},
   "source": [
    "## Project 2: Investigate a Dataset"
   ]
  },
  {
   "cell_type": "markdown",
   "metadata": {},
   "source": [
    "### Import data from csv to a DataFrame using pandas in Python"
   ]
  },
  {
   "cell_type": "code",
   "execution_count": 2,
   "metadata": {
    "collapsed": false
   },
   "outputs": [
    {
     "name": "stdout",
     "output_type": "stream",
     "text": [
      "Populating the interactive namespace from numpy and matplotlib\n",
      "Shape of the data frame:  (891, 12)\n"
     ]
    }
   ],
   "source": [
    "import matplotlib.pyplot as plt\n",
    "import numpy as np\n",
    "import pandas as pd\n",
    "import seaborn as sns\n",
    "import pprint\n",
    "%pylab inline\n",
    "\n",
    "titanic_file = \"titanic_data.csv\"\n",
    "titanic_data = pd.read_csv(titanic_file)\n",
    "print \"Shape of the data frame: \", titanic_data.shape"
   ]
  },
  {
   "cell_type": "markdown",
   "metadata": {},
   "source": [
    "A quick look at the data, see what columns(attributes) are included."
   ]
  },
  {
   "cell_type": "code",
   "execution_count": 3,
   "metadata": {
    "collapsed": false
   },
   "outputs": [
    {
     "data": {
      "text/html": [
       "<div>\n",
       "<table border=\"1\" class=\"dataframe\">\n",
       "  <thead>\n",
       "    <tr style=\"text-align: right;\">\n",
       "      <th></th>\n",
       "      <th>PassengerId</th>\n",
       "      <th>Survived</th>\n",
       "      <th>Pclass</th>\n",
       "      <th>Name</th>\n",
       "      <th>Sex</th>\n",
       "      <th>Age</th>\n",
       "      <th>SibSp</th>\n",
       "      <th>Parch</th>\n",
       "      <th>Ticket</th>\n",
       "      <th>Fare</th>\n",
       "      <th>Cabin</th>\n",
       "      <th>Embarked</th>\n",
       "    </tr>\n",
       "  </thead>\n",
       "  <tbody>\n",
       "    <tr>\n",
       "      <th>0</th>\n",
       "      <td>1</td>\n",
       "      <td>0</td>\n",
       "      <td>3</td>\n",
       "      <td>Braund, Mr. Owen Harris</td>\n",
       "      <td>male</td>\n",
       "      <td>22</td>\n",
       "      <td>1</td>\n",
       "      <td>0</td>\n",
       "      <td>A/5 21171</td>\n",
       "      <td>7.2500</td>\n",
       "      <td>NaN</td>\n",
       "      <td>S</td>\n",
       "    </tr>\n",
       "    <tr>\n",
       "      <th>1</th>\n",
       "      <td>2</td>\n",
       "      <td>1</td>\n",
       "      <td>1</td>\n",
       "      <td>Cumings, Mrs. John Bradley (Florence Briggs Th...</td>\n",
       "      <td>female</td>\n",
       "      <td>38</td>\n",
       "      <td>1</td>\n",
       "      <td>0</td>\n",
       "      <td>PC 17599</td>\n",
       "      <td>71.2833</td>\n",
       "      <td>C85</td>\n",
       "      <td>C</td>\n",
       "    </tr>\n",
       "    <tr>\n",
       "      <th>2</th>\n",
       "      <td>3</td>\n",
       "      <td>1</td>\n",
       "      <td>3</td>\n",
       "      <td>Heikkinen, Miss. Laina</td>\n",
       "      <td>female</td>\n",
       "      <td>26</td>\n",
       "      <td>0</td>\n",
       "      <td>0</td>\n",
       "      <td>STON/O2. 3101282</td>\n",
       "      <td>7.9250</td>\n",
       "      <td>NaN</td>\n",
       "      <td>S</td>\n",
       "    </tr>\n",
       "    <tr>\n",
       "      <th>3</th>\n",
       "      <td>4</td>\n",
       "      <td>1</td>\n",
       "      <td>1</td>\n",
       "      <td>Futrelle, Mrs. Jacques Heath (Lily May Peel)</td>\n",
       "      <td>female</td>\n",
       "      <td>35</td>\n",
       "      <td>1</td>\n",
       "      <td>0</td>\n",
       "      <td>113803</td>\n",
       "      <td>53.1000</td>\n",
       "      <td>C123</td>\n",
       "      <td>S</td>\n",
       "    </tr>\n",
       "    <tr>\n",
       "      <th>4</th>\n",
       "      <td>5</td>\n",
       "      <td>0</td>\n",
       "      <td>3</td>\n",
       "      <td>Allen, Mr. William Henry</td>\n",
       "      <td>male</td>\n",
       "      <td>35</td>\n",
       "      <td>0</td>\n",
       "      <td>0</td>\n",
       "      <td>373450</td>\n",
       "      <td>8.0500</td>\n",
       "      <td>NaN</td>\n",
       "      <td>S</td>\n",
       "    </tr>\n",
       "  </tbody>\n",
       "</table>\n",
       "</div>"
      ],
      "text/plain": [
       "   PassengerId  Survived  Pclass  \\\n",
       "0            1         0       3   \n",
       "1            2         1       1   \n",
       "2            3         1       3   \n",
       "3            4         1       1   \n",
       "4            5         0       3   \n",
       "\n",
       "                                                Name     Sex  Age  SibSp  \\\n",
       "0                            Braund, Mr. Owen Harris    male   22      1   \n",
       "1  Cumings, Mrs. John Bradley (Florence Briggs Th...  female   38      1   \n",
       "2                             Heikkinen, Miss. Laina  female   26      0   \n",
       "3       Futrelle, Mrs. Jacques Heath (Lily May Peel)  female   35      1   \n",
       "4                           Allen, Mr. William Henry    male   35      0   \n",
       "\n",
       "   Parch            Ticket     Fare Cabin Embarked  \n",
       "0      0         A/5 21171   7.2500   NaN        S  \n",
       "1      0          PC 17599  71.2833   C85        C  \n",
       "2      0  STON/O2. 3101282   7.9250   NaN        S  \n",
       "3      0            113803  53.1000  C123        S  \n",
       "4      0            373450   8.0500   NaN        S  "
      ]
     },
     "execution_count": 3,
     "metadata": {},
     "output_type": "execute_result"
    }
   ],
   "source": [
    "titanic_data.head()"
   ]
  },
  {
   "cell_type": "markdown",
   "metadata": {},
   "source": [
    "From the source of the data, the last column indicates the port of embarkation: (C = Cherbourg; Q = Queenstown; S = Southampton), and Pclass provides a close representative of the passengers' economic status.\n",
    "\n",
    "Some quick observations of the data:\n",
    "\n",
    "+ Nominal columns: Survived, Sex, Embarked\n",
    "+ Ordinal columns: Pclass, SibSp, Parch (number of relatives is relatively small to be interval variables)\n",
    "+ Interval columns: Age, Fare\n",
    "\n",
    "Passenger name, ticket number, and cabin don't have clear patterns to analyze. Though the cabins can have some categories indicated by the first letter, whose range is found below."
   ]
  },
  {
   "cell_type": "code",
   "execution_count": 4,
   "metadata": {
    "collapsed": true
   },
   "outputs": [],
   "source": [
    "cat_vars = [\"Survived\",\"Pclass\",\"Sex\",\"SibSp\",\"Parch\",\"Embarked\"]\n",
    "interval_vars = [\"Age\",\"Fare\"]"
   ]
  },
  {
   "cell_type": "code",
   "execution_count": 5,
   "metadata": {
    "collapsed": false
   },
   "outputs": [
    {
     "name": "stdout",
     "output_type": "stream",
     "text": [
      "set(['A', 'C', 'B', 'E', 'D', 'G', 'F', 'T'])\n"
     ]
    }
   ],
   "source": [
    "# Find all cabin letters\n",
    "def cabin_letter(cabin):\n",
    "    if pd.isnull(cabin):\n",
    "        return np.nan\n",
    "    else:\n",
    "        return set([x[0] for x in cabin.split()])\n",
    "\n",
    "c_set = set()\n",
    "for x in titanic_data['Cabin'].apply(cabin_letter):\n",
    "    if not pd.isnull(x):\n",
    "        c_set = c_set.union(x)\n",
    "print c_set"
   ]
  },
  {
   "cell_type": "markdown",
   "metadata": {},
   "source": [
    "### Questions:\n",
    "* What factors contribute to the survivial of the passengers?\n",
    "    - economic status -- did people who were in a better class have higher rate of survival?\n",
    "    - age -- did children and older people survive better because of the priority of access to evacuation boats?\n",
    "    - gender -- men could survive better because they were stronger, women could because of priority of evacuation"
   ]
  },
  {
   "cell_type": "code",
   "execution_count": 6,
   "metadata": {
    "collapsed": false
   },
   "outputs": [
    {
     "name": "stdout",
     "output_type": "stream",
     "text": [
      "Percentage of NaNs in each column:\n",
      "PassengerId     0.0%\n",
      "Survived        0.0%\n",
      "Pclass          0.0%\n",
      "Name            0.0%\n",
      "Sex             0.0%\n",
      "Age            19.9%\n",
      "SibSp           0.0%\n",
      "Parch           0.0%\n",
      "Ticket          0.0%\n",
      "Fare            0.0%\n",
      "Cabin          77.1%\n",
      "Embarked        0.2%\n",
      "dtype: object\n"
     ]
    }
   ],
   "source": [
    "# investigate outliers, missing data, and such\n",
    "print \"Percentage of NaNs in each column:\\n\", ((891 - titanic_data.count())/891.0).map(\"{:.1%}\".format)"
   ]
  },
  {
   "cell_type": "markdown",
   "metadata": {},
   "source": [
    "Since there are more than 77% percent missing data for the Cabin column, I will not analyze this column further. Also the ticket numbers do not provide useful information about the passengers, I will drop it from the data frame, too."
   ]
  },
  {
   "cell_type": "code",
   "execution_count": 7,
   "metadata": {
    "collapsed": true
   },
   "outputs": [],
   "source": [
    "titanic_data.drop(['Cabin','Ticket'],1,inplace=True)"
   ]
  },
  {
   "cell_type": "markdown",
   "metadata": {},
   "source": [
    "### First look at the interval data distribution -- columns Age and Fare"
   ]
  },
  {
   "cell_type": "code",
   "execution_count": 8,
   "metadata": {
    "collapsed": false
   },
   "outputs": [
    {
     "data": {
      "text/html": [
       "<div>\n",
       "<table border=\"1\" class=\"dataframe\">\n",
       "  <thead>\n",
       "    <tr style=\"text-align: right;\">\n",
       "      <th></th>\n",
       "      <th>Age</th>\n",
       "      <th>Fare</th>\n",
       "    </tr>\n",
       "  </thead>\n",
       "  <tbody>\n",
       "    <tr>\n",
       "      <th>count</th>\n",
       "      <td>714.000000</td>\n",
       "      <td>891.000000</td>\n",
       "    </tr>\n",
       "    <tr>\n",
       "      <th>mean</th>\n",
       "      <td>29.699118</td>\n",
       "      <td>32.204208</td>\n",
       "    </tr>\n",
       "    <tr>\n",
       "      <th>std</th>\n",
       "      <td>14.526497</td>\n",
       "      <td>49.693429</td>\n",
       "    </tr>\n",
       "    <tr>\n",
       "      <th>min</th>\n",
       "      <td>0.420000</td>\n",
       "      <td>0.000000</td>\n",
       "    </tr>\n",
       "    <tr>\n",
       "      <th>25%</th>\n",
       "      <td>20.125000</td>\n",
       "      <td>7.910400</td>\n",
       "    </tr>\n",
       "    <tr>\n",
       "      <th>50%</th>\n",
       "      <td>28.000000</td>\n",
       "      <td>14.454200</td>\n",
       "    </tr>\n",
       "    <tr>\n",
       "      <th>75%</th>\n",
       "      <td>38.000000</td>\n",
       "      <td>31.000000</td>\n",
       "    </tr>\n",
       "    <tr>\n",
       "      <th>max</th>\n",
       "      <td>80.000000</td>\n",
       "      <td>512.329200</td>\n",
       "    </tr>\n",
       "  </tbody>\n",
       "</table>\n",
       "</div>"
      ],
      "text/plain": [
       "              Age        Fare\n",
       "count  714.000000  891.000000\n",
       "mean    29.699118   32.204208\n",
       "std     14.526497   49.693429\n",
       "min      0.420000    0.000000\n",
       "25%     20.125000    7.910400\n",
       "50%     28.000000   14.454200\n",
       "75%     38.000000   31.000000\n",
       "max     80.000000  512.329200"
      ]
     },
     "execution_count": 8,
     "metadata": {},
     "output_type": "execute_result"
    }
   ],
   "source": [
    "titanic_data[interval_vars].describe()"
   ]
  },
  {
   "cell_type": "code",
   "execution_count": 9,
   "metadata": {
    "collapsed": false
   },
   "outputs": [
    {
     "data": {
      "text/plain": [
       "array([[<matplotlib.axes._subplots.AxesSubplot object at 0x115e09fd0>,\n",
       "        <matplotlib.axes._subplots.AxesSubplot object at 0x115e74590>]], dtype=object)"
      ]
     },
     "execution_count": 9,
     "metadata": {},
     "output_type": "execute_result"
    },
    {
     "data": {
      "image/png": "[encoded data removed]",
      "text/plain": [
       "<matplotlib.figure.Figure at 0x1159a5810>"
      ]
     },
     "metadata": {},
     "output_type": "display_data"
    },
    {
     "data": {
      "text/plain": [
       "<matplotlib.figure.Figure at 0x115cb5310>"
      ]
     },
     "metadata": {},
     "output_type": "display_data"
    },
    {
     "data": {
      "image/png": "[encoded data removed]",
      "text/plain": [
       "<matplotlib.figure.Figure at 0x115e09890>"
      ]
     },
     "metadata": {},
     "output_type": "display_data"
    }
   ],
   "source": [
    "titanic_data[interval_vars].plot(kind='box',ylim=(0,80))\n",
    "plt.figure()\n",
    "titanic_data[interval_vars].plot.hist(bins=range(0,82,2),xlim=(0,80),\n",
    "                                      subplots=True,layout=(1,2),figsize=(12,6),\n",
    "                                     alpha=0.6)"
   ]
  },
  {
   "cell_type": "markdown",
   "metadata": {},
   "source": [
    "Both Age and Fare distributions have long tails, with Age close to normal distribution. \n",
    "+ Most passengers are between 20 and 40 years old, and there are more children (0-10) than elder people (70-80).\n",
    "+ Though the maximum fare is 512, most fares fall in the range of [0,100]. \n",
    "+ Some fares have price 0, further checking didn't find problem with these entries. The high price (>100) fares all correspond to class 1, which makes sense, too."
   ]
  },
  {
   "cell_type": "code",
   "execution_count": 10,
   "metadata": {
    "collapsed": true
   },
   "outputs": [
    {
     "data": {
      "text/html": [
       "<div>\n",
       "<table border=\"1\" class=\"dataframe\">\n",
       "  <thead>\n",
       "    <tr style=\"text-align: right;\">\n",
       "      <th></th>\n",
       "      <th>PassengerId</th>\n",
       "      <th>Survived</th>\n",
       "      <th>Pclass</th>\n",
       "      <th>Name</th>\n",
       "      <th>Sex</th>\n",
       "      <th>Age</th>\n",
       "      <th>SibSp</th>\n",
       "      <th>Parch</th>\n",
       "      <th>Fare</th>\n",
       "      <th>Embarked</th>\n",
       "    </tr>\n",
       "  </thead>\n",
       "  <tbody>\n",
       "    <tr>\n",
       "      <th>544</th>\n",
       "      <td>545</td>\n",
       "      <td>0</td>\n",
       "      <td>1</td>\n",
       "      <td>Douglas, Mr. Walter Donald</td>\n",
       "      <td>male</td>\n",
       "      <td>50.00</td>\n",
       "      <td>1</td>\n",
       "      <td>0</td>\n",
       "      <td>106.4250</td>\n",
       "      <td>C</td>\n",
       "    </tr>\n",
       "    <tr>\n",
       "      <th>537</th>\n",
       "      <td>538</td>\n",
       "      <td>1</td>\n",
       "      <td>1</td>\n",
       "      <td>LeRoy, Miss. Bertha</td>\n",
       "      <td>female</td>\n",
       "      <td>30.00</td>\n",
       "      <td>0</td>\n",
       "      <td>0</td>\n",
       "      <td>106.4250</td>\n",
       "      <td>C</td>\n",
       "    </tr>\n",
       "    <tr>\n",
       "      <th>505</th>\n",
       "      <td>506</td>\n",
       "      <td>0</td>\n",
       "      <td>1</td>\n",
       "      <td>Penasco y Castellana, Mr. Victor de Satode</td>\n",
       "      <td>male</td>\n",
       "      <td>18.00</td>\n",
       "      <td>1</td>\n",
       "      <td>0</td>\n",
       "      <td>108.9000</td>\n",
       "      <td>C</td>\n",
       "    </tr>\n",
       "    <tr>\n",
       "      <th>307</th>\n",
       "      <td>308</td>\n",
       "      <td>1</td>\n",
       "      <td>1</td>\n",
       "      <td>Penasco y Castellana, Mrs. Victor de Satode (M...</td>\n",
       "      <td>female</td>\n",
       "      <td>17.00</td>\n",
       "      <td>1</td>\n",
       "      <td>0</td>\n",
       "      <td>108.9000</td>\n",
       "      <td>C</td>\n",
       "    </tr>\n",
       "    <tr>\n",
       "      <th>306</th>\n",
       "      <td>307</td>\n",
       "      <td>1</td>\n",
       "      <td>1</td>\n",
       "      <td>Fleming, Miss. Margaret</td>\n",
       "      <td>female</td>\n",
       "      <td>NaN</td>\n",
       "      <td>0</td>\n",
       "      <td>0</td>\n",
       "      <td>110.8833</td>\n",
       "      <td>C</td>\n",
       "    </tr>\n",
       "    <tr>\n",
       "      <th>698</th>\n",
       "      <td>699</td>\n",
       "      <td>0</td>\n",
       "      <td>1</td>\n",
       "      <td>Thayer, Mr. John Borland</td>\n",
       "      <td>male</td>\n",
       "      <td>49.00</td>\n",
       "      <td>1</td>\n",
       "      <td>1</td>\n",
       "      <td>110.8833</td>\n",
       "      <td>C</td>\n",
       "    </tr>\n",
       "    <tr>\n",
       "      <th>550</th>\n",
       "      <td>551</td>\n",
       "      <td>1</td>\n",
       "      <td>1</td>\n",
       "      <td>Thayer, Mr. John Borland Jr</td>\n",
       "      <td>male</td>\n",
       "      <td>17.00</td>\n",
       "      <td>0</td>\n",
       "      <td>2</td>\n",
       "      <td>110.8833</td>\n",
       "      <td>C</td>\n",
       "    </tr>\n",
       "    <tr>\n",
       "      <th>581</th>\n",
       "      <td>582</td>\n",
       "      <td>1</td>\n",
       "      <td>1</td>\n",
       "      <td>Thayer, Mrs. John Borland (Marian Longstreth M...</td>\n",
       "      <td>female</td>\n",
       "      <td>39.00</td>\n",
       "      <td>1</td>\n",
       "      <td>1</td>\n",
       "      <td>110.8833</td>\n",
       "      <td>C</td>\n",
       "    </tr>\n",
       "    <tr>\n",
       "      <th>215</th>\n",
       "      <td>216</td>\n",
       "      <td>1</td>\n",
       "      <td>1</td>\n",
       "      <td>Newell, Miss. Madeleine</td>\n",
       "      <td>female</td>\n",
       "      <td>31.00</td>\n",
       "      <td>1</td>\n",
       "      <td>0</td>\n",
       "      <td>113.2750</td>\n",
       "      <td>C</td>\n",
       "    </tr>\n",
       "    <tr>\n",
       "      <th>393</th>\n",
       "      <td>394</td>\n",
       "      <td>1</td>\n",
       "      <td>1</td>\n",
       "      <td>Newell, Miss. Marjorie</td>\n",
       "      <td>female</td>\n",
       "      <td>23.00</td>\n",
       "      <td>1</td>\n",
       "      <td>0</td>\n",
       "      <td>113.2750</td>\n",
       "      <td>C</td>\n",
       "    </tr>\n",
       "    <tr>\n",
       "      <th>659</th>\n",
       "      <td>660</td>\n",
       "      <td>0</td>\n",
       "      <td>1</td>\n",
       "      <td>Newell, Mr. Arthur Webster</td>\n",
       "      <td>male</td>\n",
       "      <td>58.00</td>\n",
       "      <td>0</td>\n",
       "      <td>2</td>\n",
       "      <td>113.2750</td>\n",
       "      <td>C</td>\n",
       "    </tr>\n",
       "    <tr>\n",
       "      <th>802</th>\n",
       "      <td>803</td>\n",
       "      <td>1</td>\n",
       "      <td>1</td>\n",
       "      <td>Carter, Master. William Thornton II</td>\n",
       "      <td>male</td>\n",
       "      <td>11.00</td>\n",
       "      <td>1</td>\n",
       "      <td>2</td>\n",
       "      <td>120.0000</td>\n",
       "      <td>S</td>\n",
       "    </tr>\n",
       "    <tr>\n",
       "      <th>435</th>\n",
       "      <td>436</td>\n",
       "      <td>1</td>\n",
       "      <td>1</td>\n",
       "      <td>Carter, Miss. Lucile Polk</td>\n",
       "      <td>female</td>\n",
       "      <td>14.00</td>\n",
       "      <td>1</td>\n",
       "      <td>2</td>\n",
       "      <td>120.0000</td>\n",
       "      <td>S</td>\n",
       "    </tr>\n",
       "    <tr>\n",
       "      <th>390</th>\n",
       "      <td>391</td>\n",
       "      <td>1</td>\n",
       "      <td>1</td>\n",
       "      <td>Carter, Mr. William Ernest</td>\n",
       "      <td>male</td>\n",
       "      <td>36.00</td>\n",
       "      <td>1</td>\n",
       "      <td>2</td>\n",
       "      <td>120.0000</td>\n",
       "      <td>S</td>\n",
       "    </tr>\n",
       "    <tr>\n",
       "      <th>763</th>\n",
       "      <td>764</td>\n",
       "      <td>1</td>\n",
       "      <td>1</td>\n",
       "      <td>Carter, Mrs. William Ernest (Lucile Polk)</td>\n",
       "      <td>female</td>\n",
       "      <td>36.00</td>\n",
       "      <td>1</td>\n",
       "      <td>2</td>\n",
       "      <td>120.0000</td>\n",
       "      <td>S</td>\n",
       "    </tr>\n",
       "    <tr>\n",
       "      <th>660</th>\n",
       "      <td>661</td>\n",
       "      <td>1</td>\n",
       "      <td>1</td>\n",
       "      <td>Frauenthal, Dr. Henry William</td>\n",
       "      <td>male</td>\n",
       "      <td>50.00</td>\n",
       "      <td>2</td>\n",
       "      <td>0</td>\n",
       "      <td>133.6500</td>\n",
       "      <td>S</td>\n",
       "    </tr>\n",
       "    <tr>\n",
       "      <th>334</th>\n",
       "      <td>335</td>\n",
       "      <td>1</td>\n",
       "      <td>1</td>\n",
       "      <td>Frauenthal, Mrs. Henry William (Clara Heinshei...</td>\n",
       "      <td>female</td>\n",
       "      <td>NaN</td>\n",
       "      <td>1</td>\n",
       "      <td>0</td>\n",
       "      <td>133.6500</td>\n",
       "      <td>S</td>\n",
       "    </tr>\n",
       "    <tr>\n",
       "      <th>337</th>\n",
       "      <td>338</td>\n",
       "      <td>1</td>\n",
       "      <td>1</td>\n",
       "      <td>Burns, Miss. Elizabeth Margaret</td>\n",
       "      <td>female</td>\n",
       "      <td>41.00</td>\n",
       "      <td>0</td>\n",
       "      <td>0</td>\n",
       "      <td>134.5000</td>\n",
       "      <td>C</td>\n",
       "    </tr>\n",
       "    <tr>\n",
       "      <th>319</th>\n",
       "      <td>320</td>\n",
       "      <td>1</td>\n",
       "      <td>1</td>\n",
       "      <td>Spedden, Mrs. Frederic Oakley (Margaretta Corn...</td>\n",
       "      <td>female</td>\n",
       "      <td>40.00</td>\n",
       "      <td>1</td>\n",
       "      <td>1</td>\n",
       "      <td>134.5000</td>\n",
       "      <td>C</td>\n",
       "    </tr>\n",
       "    <tr>\n",
       "      <th>269</th>\n",
       "      <td>270</td>\n",
       "      <td>1</td>\n",
       "      <td>1</td>\n",
       "      <td>Bissette, Miss. Amelia</td>\n",
       "      <td>female</td>\n",
       "      <td>35.00</td>\n",
       "      <td>0</td>\n",
       "      <td>0</td>\n",
       "      <td>135.6333</td>\n",
       "      <td>S</td>\n",
       "    </tr>\n",
       "    <tr>\n",
       "      <th>373</th>\n",
       "      <td>374</td>\n",
       "      <td>0</td>\n",
       "      <td>1</td>\n",
       "      <td>Ringhini, Mr. Sante</td>\n",
       "      <td>male</td>\n",
       "      <td>22.00</td>\n",
       "      <td>0</td>\n",
       "      <td>0</td>\n",
       "      <td>135.6333</td>\n",
       "      <td>C</td>\n",
       "    </tr>\n",
       "    <tr>\n",
       "      <th>325</th>\n",
       "      <td>326</td>\n",
       "      <td>1</td>\n",
       "      <td>1</td>\n",
       "      <td>Young, Miss. Marie Grice</td>\n",
       "      <td>female</td>\n",
       "      <td>36.00</td>\n",
       "      <td>0</td>\n",
       "      <td>0</td>\n",
       "      <td>135.6333</td>\n",
       "      <td>C</td>\n",
       "    </tr>\n",
       "    <tr>\n",
       "      <th>195</th>\n",
       "      <td>196</td>\n",
       "      <td>1</td>\n",
       "      <td>1</td>\n",
       "      <td>Lurette, Miss. Elise</td>\n",
       "      <td>female</td>\n",
       "      <td>58.00</td>\n",
       "      <td>0</td>\n",
       "      <td>0</td>\n",
       "      <td>146.5208</td>\n",
       "      <td>C</td>\n",
       "    </tr>\n",
       "    <tr>\n",
       "      <th>31</th>\n",
       "      <td>32</td>\n",
       "      <td>1</td>\n",
       "      <td>1</td>\n",
       "      <td>Spencer, Mrs. William Augustus (Marie Eugenie)</td>\n",
       "      <td>female</td>\n",
       "      <td>NaN</td>\n",
       "      <td>1</td>\n",
       "      <td>0</td>\n",
       "      <td>146.5208</td>\n",
       "      <td>C</td>\n",
       "    </tr>\n",
       "    <tr>\n",
       "      <th>305</th>\n",
       "      <td>306</td>\n",
       "      <td>1</td>\n",
       "      <td>1</td>\n",
       "      <td>Allison, Master. Hudson Trevor</td>\n",
       "      <td>male</td>\n",
       "      <td>0.92</td>\n",
       "      <td>1</td>\n",
       "      <td>2</td>\n",
       "      <td>151.5500</td>\n",
       "      <td>S</td>\n",
       "    </tr>\n",
       "    <tr>\n",
       "      <th>297</th>\n",
       "      <td>298</td>\n",
       "      <td>0</td>\n",
       "      <td>1</td>\n",
       "      <td>Allison, Miss. Helen Loraine</td>\n",
       "      <td>female</td>\n",
       "      <td>2.00</td>\n",
       "      <td>1</td>\n",
       "      <td>2</td>\n",
       "      <td>151.5500</td>\n",
       "      <td>S</td>\n",
       "    </tr>\n",
       "    <tr>\n",
       "      <th>498</th>\n",
       "      <td>499</td>\n",
       "      <td>0</td>\n",
       "      <td>1</td>\n",
       "      <td>Allison, Mrs. Hudson J C (Bessie Waldo Daniels)</td>\n",
       "      <td>female</td>\n",
       "      <td>25.00</td>\n",
       "      <td>1</td>\n",
       "      <td>2</td>\n",
       "      <td>151.5500</td>\n",
       "      <td>S</td>\n",
       "    </tr>\n",
       "    <tr>\n",
       "      <th>708</th>\n",
       "      <td>709</td>\n",
       "      <td>1</td>\n",
       "      <td>1</td>\n",
       "      <td>Cleaver, Miss. Alice</td>\n",
       "      <td>female</td>\n",
       "      <td>22.00</td>\n",
       "      <td>0</td>\n",
       "      <td>0</td>\n",
       "      <td>151.5500</td>\n",
       "      <td>S</td>\n",
       "    </tr>\n",
       "    <tr>\n",
       "      <th>332</th>\n",
       "      <td>333</td>\n",
       "      <td>0</td>\n",
       "      <td>1</td>\n",
       "      <td>Graham, Mr. George Edward</td>\n",
       "      <td>male</td>\n",
       "      <td>38.00</td>\n",
       "      <td>0</td>\n",
       "      <td>1</td>\n",
       "      <td>153.4625</td>\n",
       "      <td>S</td>\n",
       "    </tr>\n",
       "    <tr>\n",
       "      <th>268</th>\n",
       "      <td>269</td>\n",
       "      <td>1</td>\n",
       "      <td>1</td>\n",
       "      <td>Graham, Mrs. William Thompson (Edith Junkins)</td>\n",
       "      <td>female</td>\n",
       "      <td>58.00</td>\n",
       "      <td>0</td>\n",
       "      <td>1</td>\n",
       "      <td>153.4625</td>\n",
       "      <td>S</td>\n",
       "    </tr>\n",
       "    <tr>\n",
       "      <th>609</th>\n",
       "      <td>610</td>\n",
       "      <td>1</td>\n",
       "      <td>1</td>\n",
       "      <td>Shutes, Miss. Elizabeth W</td>\n",
       "      <td>female</td>\n",
       "      <td>40.00</td>\n",
       "      <td>0</td>\n",
       "      <td>0</td>\n",
       "      <td>153.4625</td>\n",
       "      <td>S</td>\n",
       "    </tr>\n",
       "    <tr>\n",
       "      <th>318</th>\n",
       "      <td>319</td>\n",
       "      <td>1</td>\n",
       "      <td>1</td>\n",
       "      <td>Wick, Miss. Mary Natalie</td>\n",
       "      <td>female</td>\n",
       "      <td>31.00</td>\n",
       "      <td>0</td>\n",
       "      <td>2</td>\n",
       "      <td>164.8667</td>\n",
       "      <td>S</td>\n",
       "    </tr>\n",
       "    <tr>\n",
       "      <th>856</th>\n",
       "      <td>857</td>\n",
       "      <td>1</td>\n",
       "      <td>1</td>\n",
       "      <td>Wick, Mrs. George Dennick (Mary Hitchcock)</td>\n",
       "      <td>female</td>\n",
       "      <td>45.00</td>\n",
       "      <td>1</td>\n",
       "      <td>1</td>\n",
       "      <td>164.8667</td>\n",
       "      <td>S</td>\n",
       "    </tr>\n",
       "    <tr>\n",
       "      <th>730</th>\n",
       "      <td>731</td>\n",
       "      <td>1</td>\n",
       "      <td>1</td>\n",
       "      <td>Allen, Miss. Elisabeth Walton</td>\n",
       "      <td>female</td>\n",
       "      <td>29.00</td>\n",
       "      <td>0</td>\n",
       "      <td>0</td>\n",
       "      <td>211.3375</td>\n",
       "      <td>S</td>\n",
       "    </tr>\n",
       "    <tr>\n",
       "      <th>689</th>\n",
       "      <td>690</td>\n",
       "      <td>1</td>\n",
       "      <td>1</td>\n",
       "      <td>Madill, Miss. Georgette Alexandra</td>\n",
       "      <td>female</td>\n",
       "      <td>15.00</td>\n",
       "      <td>0</td>\n",
       "      <td>1</td>\n",
       "      <td>211.3375</td>\n",
       "      <td>S</td>\n",
       "    </tr>\n",
       "    <tr>\n",
       "      <th>779</th>\n",
       "      <td>780</td>\n",
       "      <td>1</td>\n",
       "      <td>1</td>\n",
       "      <td>Robert, Mrs. Edward Scott (Elisabeth Walton Mc...</td>\n",
       "      <td>female</td>\n",
       "      <td>43.00</td>\n",
       "      <td>0</td>\n",
       "      <td>1</td>\n",
       "      <td>211.3375</td>\n",
       "      <td>S</td>\n",
       "    </tr>\n",
       "    <tr>\n",
       "      <th>377</th>\n",
       "      <td>378</td>\n",
       "      <td>0</td>\n",
       "      <td>1</td>\n",
       "      <td>Widener, Mr. Harry Elkins</td>\n",
       "      <td>male</td>\n",
       "      <td>27.00</td>\n",
       "      <td>0</td>\n",
       "      <td>2</td>\n",
       "      <td>211.5000</td>\n",
       "      <td>C</td>\n",
       "    </tr>\n",
       "    <tr>\n",
       "      <th>527</th>\n",
       "      <td>528</td>\n",
       "      <td>0</td>\n",
       "      <td>1</td>\n",
       "      <td>Farthing, Mr. John</td>\n",
       "      <td>male</td>\n",
       "      <td>NaN</td>\n",
       "      <td>0</td>\n",
       "      <td>0</td>\n",
       "      <td>221.7792</td>\n",
       "      <td>S</td>\n",
       "    </tr>\n",
       "    <tr>\n",
       "      <th>700</th>\n",
       "      <td>701</td>\n",
       "      <td>1</td>\n",
       "      <td>1</td>\n",
       "      <td>Astor, Mrs. John Jacob (Madeleine Talmadge Force)</td>\n",
       "      <td>female</td>\n",
       "      <td>18.00</td>\n",
       "      <td>1</td>\n",
       "      <td>0</td>\n",
       "      <td>227.5250</td>\n",
       "      <td>C</td>\n",
       "    </tr>\n",
       "    <tr>\n",
       "      <th>380</th>\n",
       "      <td>381</td>\n",
       "      <td>1</td>\n",
       "      <td>1</td>\n",
       "      <td>Bidois, Miss. Rosalie</td>\n",
       "      <td>female</td>\n",
       "      <td>42.00</td>\n",
       "      <td>0</td>\n",
       "      <td>0</td>\n",
       "      <td>227.5250</td>\n",
       "      <td>C</td>\n",
       "    </tr>\n",
       "    <tr>\n",
       "      <th>716</th>\n",
       "      <td>717</td>\n",
       "      <td>1</td>\n",
       "      <td>1</td>\n",
       "      <td>Endres, Miss. Caroline Louise</td>\n",
       "      <td>female</td>\n",
       "      <td>38.00</td>\n",
       "      <td>0</td>\n",
       "      <td>0</td>\n",
       "      <td>227.5250</td>\n",
       "      <td>C</td>\n",
       "    </tr>\n",
       "    <tr>\n",
       "      <th>557</th>\n",
       "      <td>558</td>\n",
       "      <td>0</td>\n",
       "      <td>1</td>\n",
       "      <td>Robbins, Mr. Victor</td>\n",
       "      <td>male</td>\n",
       "      <td>NaN</td>\n",
       "      <td>0</td>\n",
       "      <td>0</td>\n",
       "      <td>227.5250</td>\n",
       "      <td>C</td>\n",
       "    </tr>\n",
       "    <tr>\n",
       "      <th>118</th>\n",
       "      <td>119</td>\n",
       "      <td>0</td>\n",
       "      <td>1</td>\n",
       "      <td>Baxter, Mr. Quigg Edmond</td>\n",
       "      <td>male</td>\n",
       "      <td>24.00</td>\n",
       "      <td>0</td>\n",
       "      <td>1</td>\n",
       "      <td>247.5208</td>\n",
       "      <td>C</td>\n",
       "    </tr>\n",
       "    <tr>\n",
       "      <th>299</th>\n",
       "      <td>300</td>\n",
       "      <td>1</td>\n",
       "      <td>1</td>\n",
       "      <td>Baxter, Mrs. James (Helene DeLaudeniere Chaput)</td>\n",
       "      <td>female</td>\n",
       "      <td>50.00</td>\n",
       "      <td>0</td>\n",
       "      <td>1</td>\n",
       "      <td>247.5208</td>\n",
       "      <td>C</td>\n",
       "    </tr>\n",
       "    <tr>\n",
       "      <th>311</th>\n",
       "      <td>312</td>\n",
       "      <td>1</td>\n",
       "      <td>1</td>\n",
       "      <td>Ryerson, Miss. Emily Borie</td>\n",
       "      <td>female</td>\n",
       "      <td>18.00</td>\n",
       "      <td>2</td>\n",
       "      <td>2</td>\n",
       "      <td>262.3750</td>\n",
       "      <td>C</td>\n",
       "    </tr>\n",
       "    <tr>\n",
       "      <th>742</th>\n",
       "      <td>743</td>\n",
       "      <td>1</td>\n",
       "      <td>1</td>\n",
       "      <td>Ryerson, Miss. Susan Parker \"Suzette\"</td>\n",
       "      <td>female</td>\n",
       "      <td>21.00</td>\n",
       "      <td>2</td>\n",
       "      <td>2</td>\n",
       "      <td>262.3750</td>\n",
       "      <td>C</td>\n",
       "    </tr>\n",
       "    <tr>\n",
       "      <th>341</th>\n",
       "      <td>342</td>\n",
       "      <td>1</td>\n",
       "      <td>1</td>\n",
       "      <td>Fortune, Miss. Alice Elizabeth</td>\n",
       "      <td>female</td>\n",
       "      <td>24.00</td>\n",
       "      <td>3</td>\n",
       "      <td>2</td>\n",
       "      <td>263.0000</td>\n",
       "      <td>S</td>\n",
       "    </tr>\n",
       "    <tr>\n",
       "      <th>88</th>\n",
       "      <td>89</td>\n",
       "      <td>1</td>\n",
       "      <td>1</td>\n",
       "      <td>Fortune, Miss. Mabel Helen</td>\n",
       "      <td>female</td>\n",
       "      <td>23.00</td>\n",
       "      <td>3</td>\n",
       "      <td>2</td>\n",
       "      <td>263.0000</td>\n",
       "      <td>S</td>\n",
       "    </tr>\n",
       "    <tr>\n",
       "      <th>27</th>\n",
       "      <td>28</td>\n",
       "      <td>0</td>\n",
       "      <td>1</td>\n",
       "      <td>Fortune, Mr. Charles Alexander</td>\n",
       "      <td>male</td>\n",
       "      <td>19.00</td>\n",
       "      <td>3</td>\n",
       "      <td>2</td>\n",
       "      <td>263.0000</td>\n",
       "      <td>S</td>\n",
       "    </tr>\n",
       "    <tr>\n",
       "      <th>438</th>\n",
       "      <td>439</td>\n",
       "      <td>0</td>\n",
       "      <td>1</td>\n",
       "      <td>Fortune, Mr. Mark</td>\n",
       "      <td>male</td>\n",
       "      <td>64.00</td>\n",
       "      <td>1</td>\n",
       "      <td>4</td>\n",
       "      <td>263.0000</td>\n",
       "      <td>S</td>\n",
       "    </tr>\n",
       "    <tr>\n",
       "      <th>679</th>\n",
       "      <td>680</td>\n",
       "      <td>1</td>\n",
       "      <td>1</td>\n",
       "      <td>Cardeza, Mr. Thomas Drake Martinez</td>\n",
       "      <td>male</td>\n",
       "      <td>36.00</td>\n",
       "      <td>0</td>\n",
       "      <td>1</td>\n",
       "      <td>512.3292</td>\n",
       "      <td>C</td>\n",
       "    </tr>\n",
       "    <tr>\n",
       "      <th>737</th>\n",
       "      <td>738</td>\n",
       "      <td>1</td>\n",
       "      <td>1</td>\n",
       "      <td>Lesurer, Mr. Gustave J</td>\n",
       "      <td>male</td>\n",
       "      <td>35.00</td>\n",
       "      <td>0</td>\n",
       "      <td>0</td>\n",
       "      <td>512.3292</td>\n",
       "      <td>C</td>\n",
       "    </tr>\n",
       "    <tr>\n",
       "      <th>258</th>\n",
       "      <td>259</td>\n",
       "      <td>1</td>\n",
       "      <td>1</td>\n",
       "      <td>Ward, Miss. Anna</td>\n",
       "      <td>female</td>\n",
       "      <td>35.00</td>\n",
       "      <td>0</td>\n",
       "      <td>0</td>\n",
       "      <td>512.3292</td>\n",
       "      <td>C</td>\n",
       "    </tr>\n",
       "  </tbody>\n",
       "</table>\n",
       "</div>"
      ],
      "text/plain": [
       "     PassengerId  Survived  Pclass  \\\n",
       "544          545         0       1   \n",
       "537          538         1       1   \n",
       "505          506         0       1   \n",
       "307          308         1       1   \n",
       "306          307         1       1   \n",
       "698          699         0       1   \n",
       "550          551         1       1   \n",
       "581          582         1       1   \n",
       "215          216         1       1   \n",
       "393          394         1       1   \n",
       "659          660         0       1   \n",
       "802          803         1       1   \n",
       "435          436         1       1   \n",
       "390          391         1       1   \n",
       "763          764         1       1   \n",
       "660          661         1       1   \n",
       "334          335         1       1   \n",
       "337          338         1       1   \n",
       "319          320         1       1   \n",
       "269          270         1       1   \n",
       "373          374         0       1   \n",
       "325          326         1       1   \n",
       "195          196         1       1   \n",
       "31            32         1       1   \n",
       "305          306         1       1   \n",
       "297          298         0       1   \n",
       "498          499         0       1   \n",
       "708          709         1       1   \n",
       "332          333         0       1   \n",
       "268          269         1       1   \n",
       "609          610         1       1   \n",
       "318          319         1       1   \n",
       "856          857         1       1   \n",
       "730          731         1       1   \n",
       "689          690         1       1   \n",
       "779          780         1       1   \n",
       "377          378         0       1   \n",
       "527          528         0       1   \n",
       "700          701         1       1   \n",
       "380          381         1       1   \n",
       "716          717         1       1   \n",
       "557          558         0       1   \n",
       "118          119         0       1   \n",
       "299          300         1       1   \n",
       "311          312         1       1   \n",
       "742          743         1       1   \n",
       "341          342         1       1   \n",
       "88            89         1       1   \n",
       "27            28         0       1   \n",
       "438          439         0       1   \n",
       "679          680         1       1   \n",
       "737          738         1       1   \n",
       "258          259         1       1   \n",
       "\n",
       "                                                  Name     Sex    Age  SibSp  \\\n",
       "544                         Douglas, Mr. Walter Donald    male  50.00      1   \n",
       "537                                LeRoy, Miss. Bertha  female  30.00      0   \n",
       "505         Penasco y Castellana, Mr. Victor de Satode    male  18.00      1   \n",
       "307  Penasco y Castellana, Mrs. Victor de Satode (M...  female  17.00      1   \n",
       "306                            Fleming, Miss. Margaret  female    NaN      0   \n",
       "698                           Thayer, Mr. John Borland    male  49.00      1   \n",
       "550                        Thayer, Mr. John Borland Jr    male  17.00      0   \n",
       "581  Thayer, Mrs. John Borland (Marian Longstreth M...  female  39.00      1   \n",
       "215                            Newell, Miss. Madeleine  female  31.00      1   \n",
       "393                             Newell, Miss. Marjorie  female  23.00      1   \n",
       "659                         Newell, Mr. Arthur Webster    male  58.00      0   \n",
       "802                Carter, Master. William Thornton II    male  11.00      1   \n",
       "435                          Carter, Miss. Lucile Polk  female  14.00      1   \n",
       "390                         Carter, Mr. William Ernest    male  36.00      1   \n",
       "763          Carter, Mrs. William Ernest (Lucile Polk)  female  36.00      1   \n",
       "660                      Frauenthal, Dr. Henry William    male  50.00      2   \n",
       "334  Frauenthal, Mrs. Henry William (Clara Heinshei...  female    NaN      1   \n",
       "337                    Burns, Miss. Elizabeth Margaret  female  41.00      0   \n",
       "319  Spedden, Mrs. Frederic Oakley (Margaretta Corn...  female  40.00      1   \n",
       "269                             Bissette, Miss. Amelia  female  35.00      0   \n",
       "373                                Ringhini, Mr. Sante    male  22.00      0   \n",
       "325                           Young, Miss. Marie Grice  female  36.00      0   \n",
       "195                               Lurette, Miss. Elise  female  58.00      0   \n",
       "31      Spencer, Mrs. William Augustus (Marie Eugenie)  female    NaN      1   \n",
       "305                     Allison, Master. Hudson Trevor    male   0.92      1   \n",
       "297                       Allison, Miss. Helen Loraine  female   2.00      1   \n",
       "498    Allison, Mrs. Hudson J C (Bessie Waldo Daniels)  female  25.00      1   \n",
       "708                               Cleaver, Miss. Alice  female  22.00      0   \n",
       "332                          Graham, Mr. George Edward    male  38.00      0   \n",
       "268      Graham, Mrs. William Thompson (Edith Junkins)  female  58.00      0   \n",
       "609                          Shutes, Miss. Elizabeth W  female  40.00      0   \n",
       "318                           Wick, Miss. Mary Natalie  female  31.00      0   \n",
       "856         Wick, Mrs. George Dennick (Mary Hitchcock)  female  45.00      1   \n",
       "730                      Allen, Miss. Elisabeth Walton  female  29.00      0   \n",
       "689                  Madill, Miss. Georgette Alexandra  female  15.00      0   \n",
       "779  Robert, Mrs. Edward Scott (Elisabeth Walton Mc...  female  43.00      0   \n",
       "377                          Widener, Mr. Harry Elkins    male  27.00      0   \n",
       "527                                 Farthing, Mr. John    male    NaN      0   \n",
       "700  Astor, Mrs. John Jacob (Madeleine Talmadge Force)  female  18.00      1   \n",
       "380                              Bidois, Miss. Rosalie  female  42.00      0   \n",
       "716                      Endres, Miss. Caroline Louise  female  38.00      0   \n",
       "557                                Robbins, Mr. Victor    male    NaN      0   \n",
       "118                           Baxter, Mr. Quigg Edmond    male  24.00      0   \n",
       "299    Baxter, Mrs. James (Helene DeLaudeniere Chaput)  female  50.00      0   \n",
       "311                         Ryerson, Miss. Emily Borie  female  18.00      2   \n",
       "742              Ryerson, Miss. Susan Parker \"Suzette\"  female  21.00      2   \n",
       "341                     Fortune, Miss. Alice Elizabeth  female  24.00      3   \n",
       "88                          Fortune, Miss. Mabel Helen  female  23.00      3   \n",
       "27                      Fortune, Mr. Charles Alexander    male  19.00      3   \n",
       "438                                  Fortune, Mr. Mark    male  64.00      1   \n",
       "679                 Cardeza, Mr. Thomas Drake Martinez    male  36.00      0   \n",
       "737                             Lesurer, Mr. Gustave J    male  35.00      0   \n",
       "258                                   Ward, Miss. Anna  female  35.00      0   \n",
       "\n",
       "     Parch      Fare Embarked  \n",
       "544      0  106.4250        C  \n",
       "537      0  106.4250        C  \n",
       "505      0  108.9000        C  \n",
       "307      0  108.9000        C  \n",
       "306      0  110.8833        C  \n",
       "698      1  110.8833        C  \n",
       "550      2  110.8833        C  \n",
       "581      1  110.8833        C  \n",
       "215      0  113.2750        C  \n",
       "393      0  113.2750        C  \n",
       "659      2  113.2750        C  \n",
       "802      2  120.0000        S  \n",
       "435      2  120.0000        S  \n",
       "390      2  120.0000        S  \n",
       "763      2  120.0000        S  \n",
       "660      0  133.6500        S  \n",
       "334      0  133.6500        S  \n",
       "337      0  134.5000        C  \n",
       "319      1  134.5000        C  \n",
       "269      0  135.6333        S  \n",
       "373      0  135.6333        C  \n",
       "325      0  135.6333        C  \n",
       "195      0  146.5208        C  \n",
       "31       0  146.5208        C  \n",
       "305      2  151.5500        S  \n",
       "297      2  151.5500        S  \n",
       "498      2  151.5500        S  \n",
       "708      0  151.5500        S  \n",
       "332      1  153.4625        S  \n",
       "268      1  153.4625        S  \n",
       "609      0  153.4625        S  \n",
       "318      2  164.8667        S  \n",
       "856      1  164.8667        S  \n",
       "730      0  211.3375        S  \n",
       "689      1  211.3375        S  \n",
       "779      1  211.3375        S  \n",
       "377      2  211.5000        C  \n",
       "527      0  221.7792        S  \n",
       "700      0  227.5250        C  \n",
       "380      0  227.5250        C  \n",
       "716      0  227.5250        C  \n",
       "557      0  227.5250        C  \n",
       "118      1  247.5208        C  \n",
       "299      1  247.5208        C  \n",
       "311      2  262.3750        C  \n",
       "742      2  262.3750        C  \n",
       "341      2  263.0000        S  \n",
       "88       2  263.0000        S  \n",
       "27       2  263.0000        S  \n",
       "438      4  263.0000        S  \n",
       "679      1  512.3292        C  \n",
       "737      0  512.3292        C  \n",
       "258      0  512.3292        C  "
      ]
     },
     "execution_count": 10,
     "metadata": {},
     "output_type": "execute_result"
    }
   ],
   "source": [
    "titanic_data[(titanic_data['Fare']>100)].sort_values(['Fare','Name'])"
   ]
  },
  {
   "cell_type": "markdown",
   "metadata": {},
   "source": [
    "### Then look at the categorical data distribution"
   ]
  },
  {
   "cell_type": "code",
   "execution_count": 11,
   "metadata": {
    "collapsed": false
   },
   "outputs": [
    {
     "data": {
      "image/png": "[encoded data removed]",
      "text/plain": [
       "<matplotlib.figure.Figure at 0x116045690>"
      ]
     },
     "metadata": {},
     "output_type": "display_data"
    }
   ],
   "source": [
    "# Bar plots for categorical variables, to see the distribution among them\n",
    "def bar_plot(col):\n",
    "    val_cts = titanic_data[col].value_counts(normalize=True,sort=False)\n",
    "    plt.title(col)\n",
    "    plt.bar(range(val_cts.shape[0]),val_cts.values,width=0.2,\n",
    "            tick_label=val_cts.index, align='center')\n",
    "    ylim(0,0.8)\n",
    "\n",
    "plt.figure(1, figsize=(15,5))\n",
    "plt.suptitle(\"Distribution for category variables\",fontsize=12)\n",
    "i = 1\n",
    "for name in cat_vars:\n",
    "    plt.subplot(2,3,i)\n",
    "    bar_plot(name)\n",
    "    i = i + 1"
   ]
  },
  {
   "cell_type": "code",
   "execution_count": 12,
   "metadata": {
    "collapsed": false
   },
   "outputs": [
    {
     "data": {
      "text/plain": [
       "0    0.616162\n",
       "1    0.383838\n",
       "Name: Survived, dtype: float64"
      ]
     },
     "execution_count": 12,
     "metadata": {},
     "output_type": "execute_result"
    }
   ],
   "source": [
    "titanic_data['Survived'].value_counts()/titanic_data.shape[0]"
   ]
  },
  {
   "cell_type": "markdown",
   "metadata": {},
   "source": [
    "From the bar plots above of the categorical data, I observed the following:\n",
    "+ Survival rate is 38.38%.\n",
    "+ Most passengers were in 3rd class.\n",
    "+ There were more male passengers than female.\n",
    "+ Most passengers embarked from Southampton.\n",
    "+ Passengers with more than 1 sibling/spouse or 2 parents/children on board were relatively few. It is better to group them into one single group when comparing with passengers with few (0,1,2) relatives on board. Further, most passengers didn't have relative on board with them."
   ]
  },
  {
   "cell_type": "markdown",
   "metadata": {},
   "source": [
    "### Next I will explore the data more trying to answer the questions proposed, first the factors contributing to survival."
   ]
  },
  {
   "cell_type": "code",
   "execution_count": 13,
   "metadata": {
    "collapsed": false
   },
   "outputs": [],
   "source": [
    "surv_colors = np.array([\"blue\",\"green\"])[titanic_data['Survived']]"
   ]
  },
  {
   "cell_type": "code",
   "execution_count": 14,
   "metadata": {
    "collapsed": false
   },
   "outputs": [
    {
     "data": {
      "text/plain": [
       "<matplotlib.text.Text at 0x1183b1fd0>"
      ]
     },
     "execution_count": 14,
     "metadata": {},
     "output_type": "execute_result"
    },
    {
     "data": {
      "image/png": "[encoded data removed]",
      "text/plain": [
       "<matplotlib.figure.Figure at 0x115b30a10>"
      ]
     },
     "metadata": {},
     "output_type": "display_data"
    }
   ],
   "source": [
    "fig, ax = plt.subplots(nrows=1, ncols=2,figsize=(14,6))\n",
    "plt.suptitle(\"Survival plot with Age and Fare\",fontsize=12,fontweight=\"bold\")\n",
    "plt.subplot(121)\n",
    "plt.scatter(titanic_data['Age'],y=titanic_data['Fare'],c=surv_colors,alpha=0.3)\n",
    "line1 = plt.Line2D(range(10), range(10), marker='o', color='blue',linestyle=\"\",alpha=0.3)\n",
    "line2 = plt.Line2D(range(10), range(10), marker='o', color='green',linestyle=\"\",alpha=0.3)\n",
    "plt.legend((line1,line2),('NonSurvived','Survived',),numpoints=1, loc=1)\n",
    "plt.ylim(0,550)\n",
    "plt.xlim(0,85)\n",
    "plt.xlabel(\"Age\")\n",
    "plt.ylabel(\"Fare\")\n",
    "\n",
    "# zoom in with fare less than $100\n",
    "plt.subplot(122)\n",
    "plt.scatter(titanic_data['Age'],y=titanic_data['Fare'],c=surv_colors,alpha=0.3)\n",
    "plt.legend((line1,line2),('NonSurvived','Survived',),numpoints=1, loc=1)\n",
    "plt.ylim(0,100)\n",
    "plt.xlim(0,85)\n",
    "plt.title(\"Survival for Fare less than 100\")\n",
    "plt.xlabel(\"Age\")\n",
    "plt.ylabel(\"Fare\")"
   ]
  },
  {
   "cell_type": "markdown",
   "metadata": {},
   "source": [
    "Since the fare and age are both continuous variables, I chose the scatter plot with color indicating the survival (blue for 0 and green for 1). Since most points are concentrated between age 20 and 40, and fare between 0 and 100, the scatter plot does not convey much. Although it does look like that there are more survivals when the fare is higher than 100, and fewer survivals for children and elderly. Next I will use a histogram plot to see whether it'll illustrate a clearer pattern."
   ]
  },
  {
   "cell_type": "code",
   "execution_count": 15,
   "metadata": {
    "collapsed": false
   },
   "outputs": [],
   "source": [
    "def plot_suvival_interval(col,count_bins,x_labels=\"\"):\n",
    "    surv_counts = titanic_data[titanic_data.Survived == 1][col].value_counts(bins=count_bins,sort=False)\n",
    "    nonsurv_counts = titanic_data[titanic_data.Survived == 0][col].value_counts(bins=count_bins,sort=False)\n",
    "    surv_counts = surv_counts[surv_counts>0]\n",
    "    nonsurv_counts = nonsurv_counts[nonsurv_counts>0]\n",
    "    \n",
    "    surv_df = pd.DataFrame({'Survived': surv_counts, 'NonSurvived':nonsurv_counts})\n",
    "    surv_df_percent = surv_df.apply(lambda x:x/np.sum(x), axis=1)\n",
    "\n",
    "    fig, ax = plt.subplots(nrows=1, ncols=2,figsize=(14,5))\n",
    "    ax0 = surv_df_percent.plot.bar(stacked=True,legend=False,title='surviving percentage by '+col,\n",
    "                        ax=ax[0])\n",
    "    \n",
    "    ax1 = surv_df.plot.bar(stacked=True,title='surviving counts by '+col,\n",
    "                 ax=ax[1])\n",
    "    \n",
    "    degrees = 45\n",
    "    label_align = 'right'\n",
    "    if x_labels == \"\":\n",
    "        x_labels = list(surv_df.index)\n",
    "        degrees = 90\n",
    "        label_align = 'center'\n",
    "    ax0.set_xticklabels(x_labels, rotation=degrees, ha=label_align)\n",
    "    ax1.set_xticklabels(x_labels, rotation=degrees, ha=label_align)\n",
    "#print surv_df"
   ]
  },
  {
   "cell_type": "code",
   "execution_count": 16,
   "metadata": {
    "collapsed": false
   },
   "outputs": [
    {
     "data": {
      "image/png": "[encoded data removed]",
      "text/plain": [
       "<matplotlib.figure.Figure at 0x1180501d0>"
      ]
     },
     "metadata": {},
     "output_type": "display_data"
    }
   ],
   "source": [
    "plot_suvival_interval(\"Age\",range(0,83,2),\"\")"
   ]
  },
  {
   "cell_type": "markdown",
   "metadata": {},
   "source": [
    "From the histograms above, we can see that the survival percentage is quite uniformly distributed among the ages, except that it's a little higher for the age group 0-5. The age groups 64-80 have either 0 or 100% survival rate, but the number of passengers in these groups is too small to draw any conclusion.\n",
    "\n",
    "\n",
    "_Because of the ununiform distribution of passengers in different age groups with the same age gap, it's hard to draw conclusion with either the absolute suvival count or the proportion. Next I will split the passengers into bins with approximately equal count of passengers, with quantile points as bin splitting points._"
   ]
  },
  {
   "cell_type": "code",
   "execution_count": 17,
   "metadata": {
    "collapsed": false
   },
   "outputs": [
    {
     "data": {
      "image/png": "[encoded data removed]",
      "text/plain": [
       "<matplotlib.figure.Figure at 0x1189b1410>"
      ]
     },
     "metadata": {},
     "output_type": "display_data"
    }
   ],
   "source": [
    "col_d = titanic_data[\"Age\"]\n",
    "col_out, col_bins = pd.qcut(col_d,q=20,retbins=True,precision=1)\n",
    "plot_suvival_interval(\"Age\",col_bins,list(col_out.cat.categories))"
   ]
  },
  {
   "cell_type": "markdown",
   "metadata": {},
   "source": [
    "The observation still holds with this new visualization, but this one is much easier to interpret and makes more sense. Furthermore, with the quantile points as bin borders, there is no need to throw away data beyond the interquartile points. Next I'll do the same plot for the *Fare* column."
   ]
  },
  {
   "cell_type": "code",
   "execution_count": 18,
   "metadata": {
    "collapsed": false
   },
   "outputs": [
    {
     "data": {
      "image/png": "[encoded data removed]",
      "text/plain": [
       "<matplotlib.figure.Figure at 0x118a32310>"
      ]
     },
     "metadata": {},
     "output_type": "display_data"
    }
   ],
   "source": [
    "col_d = titanic_data[\"Fare\"]\n",
    "col_out, col_bins = pd.qcut(col_d,q=20,retbins=True,precision=1)\n",
    "plot_suvival_interval(\"Fare\",col_bins,list(col_out.cat.categories))"
   ]
  },
  {
   "cell_type": "markdown",
   "metadata": {},
   "source": [
    "From the above plots, we can see that though the suviving rate is not a strict increasing function of the Fare, the survival rate for Fare in the last two bins (> \\$78.0) looks much higher than other bins, and the rate for the first bin (< \\$7.2) is much lower."
   ]
  },
  {
   "cell_type": "markdown",
   "metadata": {},
   "source": [
    "#### Next I will investigate the categorical variables (columns) of the data and see how they affect the survival rate."
   ]
  },
  {
   "cell_type": "code",
   "execution_count": 19,
   "metadata": {
    "collapsed": false
   },
   "outputs": [
    {
     "data": {
      "text/plain": [
       "Index([u'PassengerId', u'Survived', u'Pclass', u'Name', u'Sex', u'Age',\n",
       "       u'SibSp', u'Parch', u'Fare', u'Embarked'],\n",
       "      dtype='object')"
      ]
     },
     "execution_count": 19,
     "metadata": {},
     "output_type": "execute_result"
    }
   ],
   "source": [
    "titanic_data.columns"
   ]
  },
  {
   "cell_type": "code",
   "execution_count": 20,
   "metadata": {
    "collapsed": false
   },
   "outputs": [],
   "source": [
    "def plot_survival_cat(col,ax):\n",
    "    grouped = titanic_data[[col,'Survived']].groupby(['Survived',col])\n",
    "    g_size = grouped.size()\n",
    "\n",
    "    g_index = g_size.index\n",
    "    col_levels = g_index.levels[1]\n",
    "    g_percent = g_size.groupby(level=1).apply(lambda x: x/float(x.sum()))\n",
    "    #print g_percent\n",
    "    #print g_percent.unstack().transpose()\n",
    "    #print g_size.unstack()\n",
    "    g_percent.unstack().transpose().plot.bar(stacked=True,ax=ax)\n",
    "    #g_size.unstack().transpose().plot.bar(stacked=True)\n",
    "    return g_size.unstack().transpose()"
   ]
  },
  {
   "cell_type": "code",
   "execution_count": 21,
   "metadata": {
    "collapsed": false
   },
   "outputs": [
    {
     "data": {
      "text/plain": [
       "<matplotlib.text.Text at 0x118c59450>"
      ]
     },
     "execution_count": 21,
     "metadata": {},
     "output_type": "execute_result"
    },
    {
     "data": {
      "image/png": "[encoded data removed]",
      "text/plain": [
       "<matplotlib.figure.Figure at 0x116ebd410>"
      ]
     },
     "metadata": {},
     "output_type": "display_data"
    }
   ],
   "source": [
    "fig, ax = plt.subplots(nrows=1, ncols=2,figsize=(14,5))\n",
    "summary_sex = plot_survival_cat('Sex',ax=ax[0])\n",
    "summary_pclass = plot_survival_cat('Pclass',ax=ax[1])\n",
    "plt.suptitle(\"Survival rate according to categorical variables\",fontsize=12,fontweight=\"bold\")"
   ]
  },
  {
   "cell_type": "code",
   "execution_count": 22,
   "metadata": {
    "collapsed": false,
    "scrolled": true
   },
   "outputs": [
    {
     "name": "stdout",
     "output_type": "stream",
     "text": [
      "Survived    0    1\n",
      "Pclass            \n",
      "1          80  136\n",
      "2          97   87\n",
      "3         372  119\n",
      "Survived    0    1\n",
      "Sex               \n",
      "female     81  233\n",
      "male      468  109\n"
     ]
    }
   ],
   "source": [
    "print summary_pclass\n",
    "print summary_sex"
   ]
  },
  {
   "cell_type": "code",
   "execution_count": 23,
   "metadata": {
    "collapsed": false
   },
   "outputs": [
    {
     "name": "stdout",
     "output_type": "stream",
     "text": [
      "p value for Sex variable:  1.19735706278e-58\n",
      "p value for Pclass variable  4.5492517113e-23\n"
     ]
    }
   ],
   "source": [
    "# chi square test of independence on 2x2 contingency table to see if the survival rates\n",
    "# are balanced between female and male passengers\n",
    "from scipy import stats\n",
    "\n",
    "chi2_stat, pval, dof, expt_freq = stats.chi2_contingency(summary_sex)\n",
    "print \"p value for Sex variable: \", pval\n",
    "\n",
    "# Same test for Pclass\n",
    "chi2_stat, pval, dof, expt_freq = stats.chi2_contingency(summary_pclass)\n",
    "print \"p value for Pclass variable \", pval"
   ]
  },
  {
   "cell_type": "markdown",
   "metadata": {},
   "source": [
    "From the p value of the test, the probability of observing this or even more imbalanced ratio is 1.2e-58, which is very small. Therefore we conclude that the survival rate is much higher for female than male passengers. Similarly, there is strong correlation between the class and the survival rate, too."
   ]
  },
  {
   "cell_type": "markdown",
   "metadata": {},
   "source": [
    "#### In conclusion, both Sex and Pclass have big effect on the passengers' survival. Female passengers had higher survival rate than male passengers, and passengers in better class had higher survival rate. The correlation between age and survival is not obvious from the visualization. Passengers who paid higher fare seemed to have higher survival rate."
   ]
  },
  {
   "cell_type": "markdown",
   "metadata": {},
   "source": [
    "References:\n",
    "+ numpy references\n",
    "+ pandas references\n",
    "+ scipy references\n",
    "+ stackflow"
   ]
  }
 ],
 "metadata": {
  "kernelspec": {
   "display_name": "Python 2",
   "language": "python",
   "name": "python2"
  },
  "language_info": {
   "codemirror_mode": {
    "name": "ipython",
    "version": 2
   },
   "file_extension": ".py",
   "mimetype": "text/x-python",
   "name": "python",
   "nbconvert_exporter": "python",
   "pygments_lexer": "ipython2",
   "version": "2.7.11"
  }
 },
 "nbformat": 4,
 "nbformat_minor": 0
}
